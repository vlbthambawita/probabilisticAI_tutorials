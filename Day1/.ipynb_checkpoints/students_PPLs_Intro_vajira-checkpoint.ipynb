{
 "cells": [
  {
   "cell_type": "markdown",
   "metadata": {},
   "source": [
    "# Setup\n",
    "Let's begin by importing the modules we'll need."
   ]
  },
  {
   "cell_type": "code",
   "execution_count": 1,
   "metadata": {},
   "outputs": [],
   "source": [
    "import pyro\n",
    "import torch\n",
    "import pyro.distributions as dist"
   ]
  },
  {
   "cell_type": "code",
   "execution_count": 2,
   "metadata": {},
   "outputs": [],
   "source": [
    "import seaborn as sns\n",
    "import matplotlib.pyplot as plt"
   ]
  },
  {
   "cell_type": "markdown",
   "metadata": {},
   "source": [
    "# 1. Pyro’s distributions (http://docs.pyro.ai/en/stable/distributions.html) :\n",
    "\n",
    "Pyro provides a wide range of distributions: Normal, Beta, Cauchy, Dirichlet, Gumbel, Poisson,\n",
    "Pareto, etc.\n"
   ]
  },
  {
   "cell_type": "code",
   "execution_count": 3,
   "metadata": {},
   "outputs": [
    {
     "data": {
      "text/plain": [
       "Normal(loc: 0.0, scale: 1.0)"
      ]
     },
     "execution_count": 3,
     "metadata": {},
     "output_type": "execute_result"
    }
   ],
   "source": [
    "normal = dist.Normal(0,1)\n",
    "normal"
   ]
  },
  {
   "cell_type": "markdown",
   "metadata": {},
   "source": [
    "Samples from the distributions are [Pytorch’s Tensor objects](https://pytorch.org/cppdocs/notes/tensor_creation.html) (i.e. multidimensional arrays).\n"
   ]
  },
  {
   "cell_type": "code",
   "execution_count": 4,
   "metadata": {},
   "outputs": [
    {
     "data": {
      "text/plain": [
       "<matplotlib.axes._subplots.AxesSubplot at 0x7f41725ad048>"
      ]
     },
     "execution_count": 4,
     "metadata": {},
     "output_type": "execute_result"
    },
    {
     "data": {
      "image/png": "[encoded data removed]",
      "text/plain": [
       "<Figure size 432x288 with 1 Axes>"
      ]
     },
     "metadata": {
      "needs_background": "light"
     },
     "output_type": "display_data"
    }
   ],
   "source": [
    "sample = normal.sample(sample_shape=[10000])\n",
    "#print(sample)\n",
    "sns.distplot(sample)"
   ]
  },
  {
   "cell_type": "code",
   "execution_count": 5,
   "metadata": {},
   "outputs": [
    {
     "data": {
      "text/plain": [
       "<matplotlib.axes._subplots.AxesSubplot at 0x7f4170573860>"
      ]
     },
     "execution_count": 5,
     "metadata": {},
     "output_type": "execute_result"
    },
    {
     "data": {
      "image/png": "[encoded data removed]",
      "text/plain": [
       "<Figure size 432x288 with 1 Axes>"
      ]
     },
     "metadata": {
      "needs_background": "light"
     },
     "output_type": "display_data"
    }
   ],
   "source": [
    "sns.distplot(normal.log_prob(sample))"
   ]
  },
  {
   "cell_type": "code",
   "execution_count": 6,
   "metadata": {},
   "outputs": [
    {
     "data": {
      "text/plain": [
       "tensor([[[ 2.5992e+00, -1.0972e+00,  1.8080e+00,  1.9722e+00, -6.4887e-01],\n",
       "         [-1.9609e-02, -8.7306e-01,  3.4788e-01, -5.5788e-01,  5.2777e-02],\n",
       "         [-1.4365e+00, -1.9226e+00,  3.6636e-02, -1.0719e+00, -2.7537e-01],\n",
       "         [ 2.2022e+00,  7.2150e-02,  6.8974e-01, -4.3822e-01,  4.1836e-01]],\n",
       "\n",
       "        [[-2.6340e+00,  7.9350e-01, -8.3466e-01, -9.8889e-01, -5.1082e-03],\n",
       "         [-2.2317e+00,  4.0065e-02, -3.7933e-01,  8.1305e-01, -1.0572e+00],\n",
       "         [ 4.0858e-01,  1.2215e+00, -2.5880e+00,  6.0907e-01, -1.5393e+00],\n",
       "         [-3.8440e-01, -4.8339e-01, -6.7705e-01, -2.2229e-01, -8.0021e-01]],\n",
       "\n",
       "        [[ 1.8991e+00, -9.4216e-01, -1.1950e+00,  2.1623e-01,  2.4946e-01],\n",
       "         [-2.1196e+00, -1.1123e+00, -8.0096e-01,  1.2710e+00,  1.2618e+00],\n",
       "         [ 8.4413e-01,  8.4365e-01, -1.1953e+00, -1.4770e+00, -6.2859e-04],\n",
       "         [ 1.5057e+00, -1.5051e+00,  2.1144e+00,  2.4568e+00, -1.6297e+00]]])"
      ]
     },
     "execution_count": 6,
     "metadata": {},
     "output_type": "execute_result"
    }
   ],
   "source": [
    "sample = normal.sample(sample_shape=[3,4,5])\n",
    "sample"
   ]
  },
  {
   "cell_type": "markdown",
   "metadata": {},
   "source": [
    "We can query the dimensionlity of a tensor with the ``shape`` property"
   ]
  },
  {
   "cell_type": "code",
   "execution_count": 7,
   "metadata": {},
   "outputs": [
    {
     "data": {
      "text/plain": [
       "torch.Size([3, 4, 5])"
      ]
     },
     "execution_count": 7,
     "metadata": {},
     "output_type": "execute_result"
    }
   ],
   "source": [
    "sample = normal.sample(sample_shape=[3,4,5])\n",
    "sample.shape"
   ]
  },
  {
   "cell_type": "markdown",
   "metadata": {},
   "source": [
    "Operations, like log-likelihood, are defined over tensors."
   ]
  },
  {
   "cell_type": "code",
   "execution_count": 8,
   "metadata": {},
   "outputs": [
    {
     "data": {
      "text/plain": [
       "tensor([[[-0.9350, -1.3099, -4.1403, -0.9639, -1.1471],\n",
       "         [-2.6436, -0.9251, -1.0977, -0.9863, -1.2594],\n",
       "         [-0.9754, -0.9196, -1.9412, -0.9198, -0.9189],\n",
       "         [-1.0267, -4.4586, -4.6870, -1.5565, -1.0367]],\n",
       "\n",
       "        [[-0.9193, -1.0267, -0.9289, -2.0357, -1.6963],\n",
       "         [-1.5200, -2.3001, -0.9581, -2.2253, -0.9276],\n",
       "         [-2.4255, -1.0037, -1.3004, -1.4902, -0.9303],\n",
       "         [-1.4562, -1.9051, -0.9367, -1.1958, -1.2992]],\n",
       "\n",
       "        [[-1.1159, -0.9430, -1.3222, -1.0449, -1.1276],\n",
       "         [-1.6750, -0.9196, -2.6008, -1.2107, -1.2601],\n",
       "         [-0.9374, -1.2940, -1.0871, -1.7101, -1.4260],\n",
       "         [-0.9716, -1.3115, -0.9604, -1.0398, -0.9768]]])"
      ]
     },
     "execution_count": 8,
     "metadata": {},
     "output_type": "execute_result"
    }
   ],
   "source": [
    "normal.log_prob(sample)"
   ]
  },
  {
   "cell_type": "code",
   "execution_count": 9,
   "metadata": {},
   "outputs": [
    {
     "data": {
      "text/plain": [
       "tensor(-87.2644)"
      ]
     },
     "execution_count": 9,
     "metadata": {},
     "output_type": "execute_result"
    }
   ],
   "source": [
    "torch.sum(normal.log_prob(sample))"
   ]
  },
  {
   "cell_type": "markdown",
   "metadata": {},
   "source": [
    "Multiple distributions can be embedded in single object, as shown in this example, where three Normal distributions with different means and same scale are defined in a single object."
   ]
  },
  {
   "cell_type": "code",
   "execution_count": 10,
   "metadata": {},
   "outputs": [
    {
     "data": {
      "text/plain": [
       "Normal(loc: torch.Size([3]), scale: torch.Size([3]))"
      ]
     },
     "execution_count": 10,
     "metadata": {},
     "output_type": "execute_result"
    }
   ],
   "source": [
    "normal = dist.Normal(torch.tensor([0,2.,4.]),1)\n",
    "normal"
   ]
  },
  {
   "cell_type": "code",
   "execution_count": null,
   "metadata": {},
   "outputs": [],
   "source": []
  },
  {
   "cell_type": "code",
   "execution_count": 11,
   "metadata": {},
   "outputs": [],
   "source": [
    "s = normal.sample(sample_shape=[20000])"
   ]
  },
  {
   "cell_type": "code",
   "execution_count": 12,
   "metadata": {},
   "outputs": [],
   "source": [
    "s =s.t() # get transpose to make one distribution values in a row"
   ]
  },
  {
   "cell_type": "code",
   "execution_count": 13,
   "metadata": {},
   "outputs": [
    {
     "data": {
      "text/plain": [
       "<matplotlib.axes._subplots.AxesSubplot at 0x7f417048b438>"
      ]
     },
     "execution_count": 13,
     "metadata": {},
     "output_type": "execute_result"
    },
    {
     "data": {
      "image/png": "[encoded data removed]",
      "text/plain": [
       "<Figure size 432x288 with 1 Axes>"
      ]
     },
     "metadata": {
      "needs_background": "light"
     },
     "output_type": "display_data"
    }
   ],
   "source": [
    "sns.distplot(s[0])\n",
    "sns.distplot(s[1])\n",
    "sns.distplot(s[2])"
   ]
  },
  {
   "cell_type": "code",
   "execution_count": 14,
   "metadata": {},
   "outputs": [],
   "source": [
    "s1 = pyro.sample(\"test\", normal) # to take single sample with a name"
   ]
  },
  {
   "cell_type": "code",
   "execution_count": 15,
   "metadata": {},
   "outputs": [
    {
     "data": {
      "text/plain": [
       "tensor([-1.9738,  1.9477,  4.8496])"
      ]
     },
     "execution_count": 15,
     "metadata": {},
     "output_type": "execute_result"
    }
   ],
   "source": [
    "s1"
   ]
  },
  {
   "cell_type": "code",
   "execution_count": 16,
   "metadata": {},
   "outputs": [
    {
     "data": {
      "text/plain": [
       "tensor([-0.9190, -1.3694, -0.9191])"
      ]
     },
     "execution_count": 16,
     "metadata": {},
     "output_type": "execute_result"
    }
   ],
   "source": [
    "normal.log_prob(normal.sample())"
   ]
  },
  {
   "cell_type": "markdown",
   "metadata": {},
   "source": [
    "# 2. Pyro’s model (http://pyro.ai/examples/intro_part_i.html) :\n",
    "\n",
    "\n",
    "* In Pyro, a probabilistic model is defined as a stochastic function (i.e. every time is run, it returns a new sample).\n",
    "\n",
    "* Each random variable is associated to a primitive stochastic function using the construct ``pyro.sample(...)``.\n",
    "\n",
    "\n",
    "\n",
    "### 2.1 A Temperature Model \n",
    "\n",
    "\n",
    "\n",
    "As initial running example, we consider the problem of modelling the temperature. We first start with a simple model where temperture is modeled using a random Normal variable."
   ]
  },
  {
   "cell_type": "code",
   "execution_count": 17,
   "metadata": {},
   "outputs": [
    {
     "name": "stdout",
     "output_type": "stream",
     "text": [
      "tensor(14.2930)\n",
      "tensor(12.6848)\n"
     ]
    }
   ],
   "source": [
    "def model():\n",
    "    temp = pyro.sample('temp', dist.Normal(15.0, 2.0))\n",
    "    return temp\n",
    "\n",
    "print(model())\n",
    "print(model())"
   ]
  },
  {
   "cell_type": "markdown",
   "metadata": {},
   "source": [
    "See how the model is a stochastic function which returns a different value everytime is invoked. "
   ]
  },
  {
   "cell_type": "markdown",
   "metadata": {},
   "source": [
    "### 2.2 A Temperature-Sensor Model\n",
    "\n",
    "* In Pyro, an stochastic method is defined as a **composition of primitive stochastic functions**.\n",
    "\n",
    "In the following example, we introduce the presence of a sensor, which is the one which is giving observations about the real temperature. In this case, we assume the sensor provides unbiased measurments of the temperature (i.e. the mean of the sensor's readings are the real temperature) and the error of the sensor's measurements is known."
   ]
  },
  {
   "cell_type": "code",
   "execution_count": 18,
   "metadata": {},
   "outputs": [
    {
     "data": {
      "text/plain": [
       "(tensor(12.4504), tensor(13.1721))"
      ]
     },
     "execution_count": 18,
     "metadata": {},
     "output_type": "execute_result"
    }
   ],
   "source": [
    "def model():\n",
    "    temp = pyro.sample('temp', dist.Normal(15.0, 2.0))\n",
    "    sensor = pyro.sample('sensor', dist.Normal(temp, 1.0))\n",
    "    return (temp, sensor)\n",
    "\n",
    "out1 = model()\n",
    "out1"
   ]
  },
  {
   "cell_type": "markdown",
   "metadata": {},
   "source": [
    "The above method defines a joint probability distribution:\n",
    "$$p(sensor, temp) = p(sensor|temp)p(temp)$$\n",
    "\n",
    "A graphical description of this model, in terms of probabilistic graphical models, would be as follows:\n",
    "\n",
    "<img src=\"slides/Figures/PGM-Tem-Sensor.png\" alt=\"Drawing\" style=\"width: 150px;\" >\n",
    "\n",
    "\n",
    "In this case, we have a simple dependency between the variables. But, as we are in a PPL, dependencies can be expressed in terms of complex deterministic functions (more examples later)."
   ]
  },
  {
   "cell_type": "markdown",
   "metadata": {},
   "source": [
    "## My pyro.sample testing"
   ]
  },
  {
   "cell_type": "code",
   "execution_count": 39,
   "metadata": {},
   "outputs": [],
   "source": [
    "t1 = pyro.sample('t1', dist.Normal(15.0, 2.0))\n",
    "test = pyro.sample('test', dist.Normal(t1, 2.0), obs=torch.tensor(15.0))"
   ]
  },
  {
   "cell_type": "code",
   "execution_count": 40,
   "metadata": {},
   "outputs": [
    {
     "data": {
      "text/plain": [
       "tensor(16.8720)"
      ]
     },
     "execution_count": 40,
     "metadata": {},
     "output_type": "execute_result"
    }
   ],
   "source": [
    "t1"
   ]
  },
  {
   "cell_type": "code",
   "execution_count": 41,
   "metadata": {},
   "outputs": [
    {
     "data": {
      "text/plain": [
       "tensor(15.)"
      ]
     },
     "execution_count": 41,
     "metadata": {},
     "output_type": "execute_result"
    }
   ],
   "source": [
    "test"
   ]
  },
  {
   "cell_type": "markdown",
   "metadata": {},
   "source": [
    "# 3. Pyro’s inference (http://pyro.ai/examples/intro_part_ii.html) :"
   ]
  },
  {
   "cell_type": "markdown",
   "metadata": {},
   "source": [
    "### Auxiliary inference functions (more details on Day 3)\n",
    "\n",
    "To make inference on Pyro, we will use a variational inference method, which performs gradient-based optimization to solve the inference problem. More details will be given on Day 3. "
   ]
  },
  {
   "cell_type": "code",
   "execution_count": 42,
   "metadata": {},
   "outputs": [],
   "source": [
    "from torch.distributions import constraints\n",
    "from pyro.optim import SGD\n",
    "from pyro.infer import Trace_ELBO\n",
    "import matplotlib.pyplot as plt\n",
    "from pyro.contrib.autoguide import AutoDiagonalNormal\n",
    "\n",
    "\n",
    "def svi(temperature_model, guide, obs, num_steps = 5000, plot = True):\n",
    "    pyro.clear_param_store()\n",
    "    svi = pyro.infer.SVI(model=temperature_model,\n",
    "                         guide=guide,\n",
    "                         optim=SGD({\"lr\": 0.001, \"momentum\":0.1}),\n",
    "                         loss=Trace_ELBO())\n",
    "\n",
    "    losses, a,b  = [], [], []\n",
    "    \n",
    "    for t in range(num_steps):\n",
    "        losses.append(svi.step(obs))\n",
    "\n",
    "    if (plot):\n",
    "        plt.plot(losses)\n",
    "        plt.title(\"ELBO\")\n",
    "        plt.xlabel(\"step\")\n",
    "        plt.ylabel(\"loss\");\n",
    "        plt.show()"
   ]
  },
  {
   "cell_type": "markdown",
   "metadata": {},
   "source": [
    "### 3.1  Conditioning on a single observation\n",
    "\n",
    "Now, we continue with the last model defined in section 2.2, and assume we have a sensor reading and we want to compute the posterior distribution over the real temperature. \n",
    "\n",
    "\n",
    "* When defining the model we can introduce observations in a random variable with the keyword ``obs=``.\n"
   ]
  },
  {
   "cell_type": "code",
   "execution_count": 47,
   "metadata": {},
   "outputs": [],
   "source": [
    "#The observatons   \n",
    "obs = {'sensor': torch.tensor(18.0)}\n",
    "\n",
    "def model(obs):\n",
    "    temp = pyro.sample('temp', dist.Normal(15.0, 2.0))\n",
    "    sensor = pyro.sample('sensor', dist.Normal(temp, 1.0), obs=obs['sensor'])"
   ]
  },
  {
   "cell_type": "markdown",
   "metadata": {},
   "source": [
    "To make inference in Pyro over a given model we need to define a *guide*, this *guide* has the same signature than its counterpart model. And the guide must provide samples for those variables of the model which are not observed using again the ``pyro.sample`` construct. Guides are also parametrized using Pyro's parameters (``pyro.param``), so the variational inference algorithm will optimize these parameters. All of that will be explained in detail on Day 3."
   ]
  },
  {
   "cell_type": "code",
   "execution_count": 48,
   "metadata": {},
   "outputs": [],
   "source": [
    "test_a = pyro.param(\"mean\", torch.tensor(0.0))"
   ]
  },
  {
   "cell_type": "code",
   "execution_count": 49,
   "metadata": {},
   "outputs": [
    {
     "data": {
      "text/plain": [
       "tensor(0., requires_grad=True)"
      ]
     },
     "execution_count": 49,
     "metadata": {},
     "output_type": "execute_result"
    }
   ],
   "source": [
    "test_a"
   ]
  },
  {
   "cell_type": "code",
   "execution_count": 50,
   "metadata": {},
   "outputs": [],
   "source": [
    "#The guide\n",
    "def guide(obs):\n",
    "    a = pyro.param(\"mean\", torch.tensor(0.0))\n",
    "    b = pyro.param(\"scale\", torch.tensor(1.), constraint=constraints.positive)\n",
    "    temp = pyro.sample('temp', dist.Normal(a, b))"
   ]
  },
  {
   "cell_type": "markdown",
   "metadata": {},
   "source": [
    "Now, we can perform inference making use the previously defined auxiliary functions, ``svi`` and ``guide``, and query the posterior probability distribution: \n",
    "\n",
    "\n",
    "$$p(temp | sensor=18)=\\frac{p(sensor=18|temp)p(temp)}{\\int p(sensor=18|temp)p(temp) dtemp}$$\n",
    "\n",
    "\n"
   ]
  },
  {
   "cell_type": "code",
   "execution_count": 51,
   "metadata": {},
   "outputs": [
    {
     "data": {
      "image/png": "[encoded data removed]",
      "text/plain": [
       "<Figure size 432x288 with 1 Axes>"
      ]
     },
     "metadata": {
      "needs_background": "light"
     },
     "output_type": "display_data"
    },
    {
     "name": "stdout",
     "output_type": "stream",
     "text": [
      "P(Temperature|Sensor=18.0) = \n",
      "Normal(loc: 17.345603942871094, scale: 0.8621100783348083)\n",
      "\n"
     ]
    }
   ],
   "source": [
    "#Run inference\n",
    "svi(model,guide,obs, plot=True)\n",
    "\n",
    "#Print results\n",
    "print(\"P(Temperature|Sensor=18.0) = \")\n",
    "print(dist.Normal(pyro.param(\"mean\").item(), pyro.param(\"scale\").item()))\n",
    "print(\"\")"
   ]
  },
  {
   "cell_type": "markdown",
   "metadata": {},
   "source": [
    "Above we can see the result of the inference, and also how the ELBO function is minimized during the variational inference process."
   ]
  },
  {
   "cell_type": "markdown",
   "metadata": {},
   "source": [
    "### 3.2  Learning from a bunch of observations\n",
    "\n",
    "In this case, we assume we have a bunch of observations about the temperature at different time steps. In this case, following a probabilistic modelling approach, we define a bunch of random variables, one for each observation, using a standard ``for-loop``."
   ]
  },
  {
   "cell_type": "code",
   "execution_count": 49,
   "metadata": {},
   "outputs": [],
   "source": [
    "#The observatons   \n",
    "obs = {'sensor': torch.tensor([18., 18.7, 19.2, 17.8, 20.3, 22.4, 20.3, 21.2, 19.5, 20.1])}\n",
    "\n",
    "def model(obs):\n",
    "    for i in range(obs['sensor'].shape[0]):\n",
    "        temp = pyro.sample(f'temp_{i}', dist.Normal(15.0, 2.0))\n",
    "        sensor = pyro.sample(f'sensor_{i}', dist.Normal(temp, 1.0), obs=obs['sensor'][i])"
   ]
  },
  {
   "cell_type": "markdown",
   "metadata": {},
   "source": [
    "On the other side, we are not sure about the mean temperature and we want to infer it from the data. For doing that we can follow a *maximum likelihood* approach,\n",
    "\n",
    "$$ \\mu_{t} = \\arg\\max_\\mu \\ln p(s_1,\\ldots,s_n|\\mu) = \\arg\\max_\\mu \\prod_i \\int_{t_i} p(s_i|t_i)p(t_i|\\mu) dt_i $$\n",
    "where $s_i$ denotes the sensor readings, $t_i$ is the real temperature at time $i$. \n",
    "\n",
    "However, with PPLs, we do not have to care about the underlying inference problem. We just define the model and let the PPL's engine make the work for us. So the model is defined as follows, using Pyro's parameters (defined as ``pyro.param``), which are free variables we can optimize. "
   ]
  },
  {
   "cell_type": "code",
   "execution_count": 50,
   "metadata": {},
   "outputs": [],
   "source": [
    "#The observatons   \n",
    "obs = {'sensor': torch.tensor([18., 18.7, 19.2, 17.8, 20.3, 22.4, 20.3, 21.2, 19.5, 20.1])}\n",
    "\n",
    "def model(obs):\n",
    "    mean_temp = pyro.param('mean_temp', torch.tensor(15.0))\n",
    "    for i in range(obs['sensor'].shape[0]):\n",
    "        temp = pyro.sample(f'temp_{i}', dist.Normal(mean_temp, 2.0))\n",
    "        sensor = pyro.sample(f'sensor_{i}', dist.Normal(temp, 1.0), obs=obs['sensor'][i])"
   ]
  },
  {
   "cell_type": "code",
   "execution_count": 51,
   "metadata": {},
   "outputs": [],
   "source": [
    "#Define the guide\n",
    "def guide(obs):\n",
    "    for i in range(obs['sensor'].shape[0]):\n",
    "        mean_i = pyro.param(f'mean_{i}', obs['sensor'][i])\n",
    "        scale_i = pyro.param(f'scale_{i}', torch.tensor(1.), constraint=constraints.positive)\n",
    "        temp = pyro.sample(f'temp_{i}', dist.Normal(mean_i, scale_i))"
   ]
  },
  {
   "cell_type": "code",
   "execution_count": 52,
   "metadata": {},
   "outputs": [
    {
     "name": "stdout",
     "output_type": "stream",
     "text": [
      "Estimated Mean Temperature\n",
      "19.139299392700195\n"
     ]
    }
   ],
   "source": [
    "#Run inference\n",
    "svi(model, guide, obs, num_steps=1000)\n",
    "\n",
    "#Print results\n",
    "print(\"Estimated Mean Temperature\")\n",
    "print(pyro.param(\"mean_temp\").item())"
   ]
  },
  {
   "cell_type": "markdown",
   "metadata": {},
   "source": [
    "Instead of performing *maximum likelihood* learning, we can perform *Bayesian learning* and treat the unknown as a random variable."
   ]
  },
  {
   "cell_type": "code",
   "execution_count": 53,
   "metadata": {},
   "outputs": [],
   "source": [
    "#The observatons   \n",
    "obs = {'sensor': torch.tensor([18., 18.7, 19.2, 17.8, 20.3, 22.4, 20.3, 21.2, 19.5, 20.1])}\n",
    "\n",
    "def model(obs):\n",
    "    mean_temp = pyro.sample('mean_temp', dist.Normal(15.0, 2.0))\n",
    "    for i in range(obs['sensor'].shape[0]):\n",
    "        temp = pyro.sample(f'temp_{i}', dist.Normal(mean_temp, 2.0))\n",
    "        sensor = pyro.sample(f'sensor_{i}', dist.Normal(temp, 1.0), obs=obs['sensor'][i])"
   ]
  },
  {
   "cell_type": "markdown",
   "metadata": {},
   "source": [
    "The above model can be graphically represented as follows:\n",
    "\n",
    "<img src=\"slides/Figures/PGM-Tem-Sensor2.png\" alt=\"Drawing\" style=\"width: 250px;\" >\n",
    "\n",
    "\n",
    "\n",
    "\n",
    "We perform inference over this model. "
   ]
  },
  {
   "cell_type": "code",
   "execution_count": 54,
   "metadata": {},
   "outputs": [],
   "source": [
    "#Define the guide\n",
    "def guide(obs):\n",
    "    mean = pyro.param(\"mean\", torch.mean(obs['sensor']))\n",
    "    scale = pyro.param(\"scale\", torch.tensor(1.), constraint=constraints.positive)\n",
    "    mean_temp = pyro.sample('mean_temp', dist.Normal(mean, scale))\n",
    "    for i in range(obs['sensor'].shape[0]):\n",
    "        mean_i = pyro.param(f'mean_{i}', obs['sensor'][i])\n",
    "        scale_i = pyro.param(f'scale_{i}', torch.tensor(1.), constraint=constraints.positive)\n",
    "        temp = pyro.sample(f'temp_{i}', dist.Normal(mean_i, scale_i))"
   ]
  },
  {
   "cell_type": "code",
   "execution_count": 55,
   "metadata": {},
   "outputs": [
    {
     "name": "stdout",
     "output_type": "stream",
     "text": [
      "P(mean_temp|Sensor=[18., 18.7, 19.2, 17.8, 20.3, 22.4, 20.3, 21.2, 19.5, 20.1]) =\n",
      "Normal(loc: 19.2670955657959, scale: 0.6320840716362)\n",
      "\n",
      "10.746433019638062 seconds\n"
     ]
    }
   ],
   "source": [
    "import time\n",
    "        \n",
    "#Run inference\n",
    "start = time.time()\n",
    "svi(model, guide, obs, num_steps=1000)\n",
    "\n",
    "#Print results\n",
    "print(\"P(mean_temp|Sensor=[18., 18.7, 19.2, 17.8, 20.3, 22.4, 20.3, 21.2, 19.5, 20.1]) =\")\n",
    "print(dist.Normal(pyro.param(\"mean\").item(), pyro.param(\"scale\").item()))\n",
    "print(\"\")\n",
    "end = time.time()\n",
    "print(f\"{(end - start)} seconds\")"
   ]
  },
  {
   "cell_type": "markdown",
   "metadata": {},
   "source": [
    "Now, the result of the learning is not a *point estimate*, but a *posterior distribution* which captures uncertainty about the estimation."
   ]
  },
  {
   "cell_type": "code",
   "execution_count": 56,
   "metadata": {},
   "outputs": [
    {
     "data": {
      "image/png": "[encoded data removed]",
      "text/plain": [
       "<Figure size 432x288 with 1 Axes>"
      ]
     },
     "metadata": {},
     "output_type": "display_data"
    }
   ],
   "source": [
    "import numpy as np\n",
    "import scipy.stats as stats\n",
    "\n",
    "mu = 19.312837600708008\n",
    "scale = 0.6332376003265381\n",
    "x = np.linspace(mu - 3*scale, mu + 3*scale, 100)\n",
    "plt.plot(x, stats.norm.pdf(x, mu, scale), label='Posterior')\n",
    "point = 19.123859405517578\n",
    "plt.plot([point, point],[0., 1.], label='Point Estimate')\n",
    "plt.legend()\n",
    "plt.show()"
   ]
  },
  {
   "cell_type": "markdown",
   "metadata": {},
   "source": [
    "### 3.3 The use of ``plate`` construct\n",
    "\n",
    "In this new example, we will tell Pyro how to exploit conditional independencies and vectorization to make inference much faster. This can be done with the construct ``palte``. With this construct we can indicate the variables $s_i$ and $t_i$ are conditionally indepdendent from another variables $s_j$ and $t_j$ given $\\mu_t$. \n",
    "\n"
   ]
  },
  {
   "cell_type": "code",
   "execution_count": 57,
   "metadata": {},
   "outputs": [],
   "source": [
    "#The observatons   \n",
    "obs = {'sensor': torch.tensor([18., 18.7, 19.2, 17.8, 20.3, 22.4, 20.3, 21.2, 19.5, 20.1])}\n",
    "\n",
    "def model(obs):\n",
    "    mean_temp = pyro.sample('mean_temp', dist.Normal(15.0, 2.0))\n",
    "    with pyro.plate('a', obs['sensor'].shape[0]):\n",
    "        temp = pyro.sample('temp', dist.Normal(mean_temp, 2.0))\n",
    "        sensor = pyro.sample('sensor', dist.Normal(temp, 1.0), obs=obs['sensor'])"
   ]
  },
  {
   "cell_type": "markdown",
   "metadata": {},
   "source": [
    "The ``plate`` construct refers to the standard notation use in graphical models to denote the repetition of some parts of of the graph. In this way this Pyro model can be graphically represented as follows, \n",
    "\n",
    "<img src=\"slides/Figures/PGM-Tem-Sensor3.png\" alt=\"Drawing\" style=\"width: 250px;\" >\n",
    "\n",
    "Here we can also observe the distintion between **local** and **global** rando variables. The former caputures information which is specific about the $i$-th data sample (i.e. the real temperature at this moment in time), while the latter captures information which is common about all the data samples (i.e. the average temperature across all data samples). \n",
    "\n",
    "\n",
    "Observe how inference in this model is much faster. "
   ]
  },
  {
   "cell_type": "code",
   "execution_count": 58,
   "metadata": {},
   "outputs": [],
   "source": [
    "#Define the guide\n",
    "def guide(obs_sensor):\n",
    "    mean = pyro.param(\"mean\", torch.mean(obs['sensor']))\n",
    "    scale = pyro.param(\"scale\", torch.tensor(1.), constraint=constraints.positive)\n",
    "    mean_temp = pyro.sample('mean_temp', dist.Normal(mean, scale))\n",
    "    with pyro.plate('a', obs['sensor'].shape[0]) as i:\n",
    "        mean_i = pyro.param('mean_i', obs['sensor'][i])\n",
    "        scale_i = pyro.param('scale_i', torch.tensor(1.), constraint=constraints.positive)\n",
    "        temp = pyro.sample('temp', dist.Normal(mean_i, scale_i))    "
   ]
  },
  {
   "cell_type": "code",
   "execution_count": 59,
   "metadata": {},
   "outputs": [
    {
     "name": "stdout",
     "output_type": "stream",
     "text": [
      "P(mean_temp|Sensor=[18., 18.7, 19.2, 17.8, 20.3, 22.4, 20.3, 21.2, 19.5, 20.1]) =\n",
      "Normal(loc: 19.330806732177734, scale: 0.6099104285240173)\n",
      "\n",
      "2.7443861961364746 seconds\n"
     ]
    }
   ],
   "source": [
    "#Run inference\n",
    "start = time.time()\n",
    "svi(model, guide, obs, num_steps=1000)\n",
    "\n",
    "#Print results\n",
    "print(\"P(mean_temp|Sensor=[18., 18.7, 19.2, 17.8, 20.3, 22.4, 20.3, 21.2, 19.5, 20.1]) =\")\n",
    "print(dist.Normal(pyro.param(\"mean\").item(), pyro.param(\"scale\").item()))\n",
    "print(\"\")\n",
    "end = time.time()\n",
    "print(f\"{(end - start)} seconds\")"
   ]
  },
  {
   "cell_type": "markdown",
   "metadata": {},
   "source": [
    "### <span style=\"color:red\">Exercise 1: </span>The role of *prior distributions* in learning\n",
    "\n",
    "In this case we just want to llustrate how the output of learning depends of the particular prior we introduce in the model. Play with different options and extract conclusions:\n",
    "\n",
    "1. What happens if we change the mean of the prior?\n",
    "2. What happens if we change the scale of the prior?\n",
    "3. What happens to the posterior if the number of data samples deacreases and increases?"
   ]
  },
  {
   "cell_type": "code",
   "execution_count": 60,
   "metadata": {},
   "outputs": [
    {
     "name": "stdout",
     "output_type": "stream",
     "text": [
      "P(Temperature|Sensor=18.0) = \n",
      "Normal(loc: 19.31509017944336, scale: 0.5900470614433289)\n"
     ]
    }
   ],
   "source": [
    "#The observatons   \n",
    "obs = {'sensor': torch.tensor([18., 18.7, 19.2, 17.8, 20.3, 22.4, 20.3, 21.2, 19.5, 20.1])}\n",
    "\n",
    "def model(obs):\n",
    "    mean_temp = pyro.sample('mean_temp', dist.Normal(15.0, 2.0))\n",
    "    with pyro.plate('a', obs['sensor'].shape[0]):\n",
    "        temp = pyro.sample('temp', dist.Normal(mean_temp, 2.0))\n",
    "        sensor = pyro.sample('sensor', dist.Normal(temp, 1.0), obs=obs['sensor'])\n",
    "\n",
    "#Run inference\n",
    "svi(model, guide, obs, num_steps=1000)\n",
    "\n",
    "#Print results\n",
    "print(\"P(Temperature|Sensor=18.0) = \")\n",
    "print(dist.Normal(pyro.param(\"mean\").item(), pyro.param(\"scale\").item()))"
   ]
  },
  {
   "cell_type": "markdown",
   "metadata": {},
   "source": [
    "# 4.  Icecream Shop\n",
    "\n",
    "Imagine we have an ice-cream shop and we record the ice-cream sales and the average temperature of the day (using a temperature sensor), because we know the temperature influences the sales. We want to precisely find out how temperature affects ice-cream sales. \n",
    "\n",
    "<img src=\"slides/Figures/Ice-cream_shop_-_Florida.jpg\" alt=\"Drawing\" style=\"width: 600px;\" >\n",
    "\n",
    "\n",
    "We assume that the daily sales follows a Poisson distribution, whose mean parameter linearly depends on the real temperature of the day. The coefficients of this linear relationship are modelled as random variables. \n"
   ]
  },
  {
   "cell_type": "code",
   "execution_count": 61,
   "metadata": {},
   "outputs": [],
   "source": [
    "#The observatons   \n",
    "obs = {'sensor': torch.tensor([18., 18.7, 19.2, 17.8, 20.3, 22.4, 20.3, 21.2, 19.5, 20.1]),\n",
    "       'sales': torch.tensor([46., 47., 49., 44., 50., 54., 51., 52., 49., 53.])}\n",
    "\n",
    "def model(obs):\n",
    "    mean_temp = pyro.sample('mean_temp', dist.Normal(15.0, 2.0))\n",
    "    alpha = pyro.sample('alpha', dist.Normal(0.0, 100.0))\n",
    "    beta = pyro.sample('beta', dist.Normal(0.0, 100.0))\n",
    "\n",
    "    with pyro.plate('a', obs['sensor'].shape[0]):\n",
    "        temp = pyro.sample('temp', dist.Normal(mean_temp, 2.0))\n",
    "        sensor = pyro.sample('sensor', dist.Normal(temp, 1.0), obs=obs['sensor'])\n",
    "        rate = torch.max(torch.tensor(0.001), alpha + beta*temp)\n",
    "        sales = pyro.sample('sales', dist.Poisson(rate), obs=obs['sales'])"
   ]
  },
  {
   "cell_type": "code",
   "execution_count": 62,
   "metadata": {},
   "outputs": [],
   "source": [
    "#Define the guide\n",
    "def guide(obs):\n",
    "    mean = pyro.param(\"mean\", torch.mean(obs['sensor']))\n",
    "    scale = pyro.param(\"scale\", torch.tensor(1.), constraint=constraints.positive)\n",
    "    mean_temp = pyro.sample('mean_temp', dist.Normal(mean, scale))\n",
    "\n",
    "    alpha_mean = pyro.param(\"alpha_mean\", torch.mean(obs['sensor']))\n",
    "    alpha_scale = pyro.param(\"alpha_scale\", torch.tensor(1.), constraint=constraints.positive)\n",
    "    alpha = pyro.sample('alpha', dist.Normal(alpha_mean, alpha_scale))\n",
    "\n",
    "    beta_mean = pyro.param(\"beta_mean\", torch.tensor(1.0))\n",
    "    beta_scale = pyro.param(\"beta_scale\", torch.tensor(1.), constraint=constraints.positive)\n",
    "    beta = pyro.sample('beta', dist.Normal(beta_mean, beta_scale))\n",
    "\n",
    "    with pyro.plate('a', obs['sensor'].shape[0]) as i:\n",
    "        mean_i = pyro.param('mean_i', obs['sensor'][i])\n",
    "        scale_i = pyro.param('scale_i', torch.tensor(1.), constraint=constraints.positive)\n",
    "        temp = pyro.sample('temp', dist.Normal(mean_i, scale_i))  "
   ]
  },
  {
   "cell_type": "code",
   "execution_count": 63,
   "metadata": {},
   "outputs": [
    {
     "name": "stdout",
     "output_type": "stream",
     "text": [
      "Posterior Temperature Mean\n",
      "Normal(loc: 19.301464080810547, scale: 0.6544582843780518)\n",
      "\n",
      "Posterior Alpha\n",
      "Normal(loc: 19.772266387939453, scale: 1.8522547483444214)\n",
      "\n",
      "Posterior Beta\n",
      "Normal(loc: 1.5032116174697876, scale: 0.11939140409231186)\n"
     ]
    }
   ],
   "source": [
    "#Run inference\n",
    "svi(model, guide, obs, num_steps=1000)\n",
    "\n",
    "#Print results    \n",
    "print(\"Posterior Temperature Mean\")\n",
    "print(dist.Normal(pyro.param(\"mean\").item(), pyro.param(\"scale\").item()))\n",
    "print(\"\")\n",
    "print(\"Posterior Alpha\")\n",
    "print(dist.Normal(pyro.param(\"alpha_mean\").item(), pyro.param(\"alpha_scale\").item()))\n",
    "print(\"\")\n",
    "print(\"Posterior Beta\")\n",
    "print(dist.Normal(pyro.param(\"beta_mean\").item(), pyro.param(\"beta_scale\").item()))"
   ]
  },
  {
   "cell_type": "markdown",
   "metadata": {},
   "source": [
    "### <span style=\"color:red\">Exercise 2: </span> \n",
    "\n",
    "Assume we also have a bunch of humidity senor measurements of the real humidity in the air, which is unknown. Then, assume the sales are also linearly influenced by the humidity. Extend the above model in order to integrate all of that.\n"
   ]
  },
  {
   "cell_type": "code",
   "execution_count": 64,
   "metadata": {},
   "outputs": [
    {
     "ename": "SyntaxError",
     "evalue": "invalid syntax (<ipython-input-64-451a143bbb04>, line 22)",
     "output_type": "error",
     "traceback": [
      "\u001b[0;36m  File \u001b[0;32m\"<ipython-input-64-451a143bbb04>\"\u001b[0;36m, line \u001b[0;32m22\u001b[0m\n\u001b[0;31m    sales = pyro.sample('sales', dist.Poisson(????), obs=obs['sales'])\u001b[0m\n\u001b[0m                                              ^\u001b[0m\n\u001b[0;31mSyntaxError\u001b[0m\u001b[0;31m:\u001b[0m invalid syntax\n"
     ]
    }
   ],
   "source": [
    "#The observatons   \n",
    "obs = {'sensor': torch.tensor([18., 18.7, 19.2, 17.8, 20.3, 22.4, 20.3, 21.2, 19.5, 20.1]),\n",
    "       'sales': torch.tensor([46., 47., 49., 44., 50., 54., 51., 52., 49., 53.]),\n",
    "       'sensor_humidity': torch.tensor([82.8, 87.6, 69.1, 74.2, 80.3, 94.2, 91.2, 92.2, 99.1, 93.2])}\n",
    "\n",
    "\n",
    "def model(obs):\n",
    "    mean_temp = pyro.sample('mean_temp', dist.Normal(15.0, 2.0))\n",
    "    ## Introduce a random variable \"humidity_mean\"\n",
    "\n",
    "    alpha = pyro.sample('alpha', dist.Normal(0.0, 100.0))\n",
    "    beta = pyro.sample('beta', dist.Normal(0.0, 100.0))\n",
    "    \n",
    "    ## Introduce a coefficient for the humidity \"gamma\"\n",
    "\n",
    "    with pyro.plate('a', obs['sensor'].shape[0]):\n",
    "        temp = pyro.sample('temp', dist.Normal(mean_temp, 2.0))\n",
    "        sensor = pyro.sample('sensor', dist.Normal(temp, 1.0), obs=obs['sensor'])\n",
    "        #Add the 'humidity' variable and the 'sensor_humidity' variable\n",
    "        \n",
    "        #Add the linear dependency of humidity\n",
    "        sales = pyro.sample('sales', dist.Poisson(????), obs=obs['sales'])"
   ]
  },
  {
   "cell_type": "code",
   "execution_count": 65,
   "metadata": {},
   "outputs": [],
   "source": [
    "#Auxiliary Guide Code\n",
    "def guide(obs):\n",
    "    mean = pyro.param(\"mean\", torch.mean(obs['sensor']))\n",
    "    scale = pyro.param(\"scale\", torch.tensor(1.), constraint=constraints.positive)\n",
    "    mean_temp = pyro.sample('mean_temp', dist.Normal(mean, scale))\n",
    "\n",
    "    meanH = pyro.param(\"meanH\", torch.mean(obs['sensor_humidity']))\n",
    "    scaleH = pyro.param(\"scaleH\", torch.tensor(1.), constraint=constraints.positive)\n",
    "    humidity_mean = pyro.sample('humidity_mean', dist.Normal(meanH, scaleH))\n",
    "\n",
    "\n",
    "    alpha_mean = pyro.param(\"alpha_mean\", torch.mean(obs['sensor']), constraint=constraints.positive)\n",
    "    alpha_scale = pyro.param(\"alpha_scale\", torch.tensor(1.), constraint=constraints.positive)\n",
    "    alpha = pyro.sample('alpha', dist.Normal(alpha_mean, alpha_scale))\n",
    "\n",
    "    beta_mean = pyro.param(\"beta_mean\", torch.tensor(1.0), constraint=constraints.positive)\n",
    "    beta_scale = pyro.param(\"beta_scale\", torch.tensor(1.), constraint=constraints.positive)\n",
    "    beta = pyro.sample('beta', dist.Normal(beta_mean, beta_scale))\n",
    "\n",
    "    gamma_mean = pyro.param(\"gamma_mean\", torch.tensor(1.0), constraint=constraints.positive)\n",
    "    gamma_scale = pyro.param(\"gamma_scale\", torch.tensor(1.), constraint=constraints.positive)\n",
    "    gamma = pyro.sample('gamma', dist.Normal(gamma_mean, gamma_scale))\n",
    "\n",
    "    with pyro.plate('a', obs['sensor'].shape[0]) as i:\n",
    "        mean_i = pyro.param('mean_i', obs['sensor'][i])\n",
    "        scale_i = pyro.param('scale_i', torch.tensor(1.), constraint=constraints.positive)\n",
    "        temp = pyro.sample('temp', dist.Normal(mean_i, scale_i))\n",
    "        meanH_i = pyro.param('meanH_i', obs['sensor_humidity'][i])\n",
    "        scaleH_i = pyro.param('scaleH_i', torch.tensor(1.), constraint=constraints.positive)\n",
    "        humidity = pyro.sample('humidity', dist.Normal(meanH_i, scaleH_i)) "
   ]
  },
  {
   "cell_type": "code",
   "execution_count": null,
   "metadata": {},
   "outputs": [],
   "source": [
    "#Run inference\n",
    "svi(model, guide, obs, num_steps=1000)\n",
    "\n",
    "#Print results    \n",
    "print(\"Posterior Temperature Mean\")\n",
    "print(dist.Normal(pyro.param(\"mean\").item(), pyro.param(\"scale\").item()))\n",
    "print(\"\")\n",
    "print(\"Posterior Humidity Mean\")\n",
    "print(dist.Normal(pyro.param(\"meanH\").item(), pyro.param(\"scaleH\").item()))\n",
    "print(\"\")\n",
    "print(\"Posterior Alpha\")\n",
    "print(dist.Normal(pyro.param(\"alpha_mean\").item(), pyro.param(\"alpha_scale\").item()))\n",
    "print(\"\")\n",
    "print(\"Posterior Beta\")\n",
    "print(dist.Normal(pyro.param(\"beta_mean\").item(), pyro.param(\"beta_scale\").item()))\n",
    "print(\"\")\n",
    "print(\"Posterior Gamma\")\n",
    "print(dist.Normal(pyro.param(\"gamma_mean\").item(), pyro.param(\"gamma_scale\").item()))"
   ]
  },
  {
   "cell_type": "markdown",
   "metadata": {},
   "source": [
    "# 4.  Temporal Models\n",
    "\n",
    "If we think there is a temporal dependency between the variables, we can encode that easily with PPLs. \n",
    "\n",
    "Let's go back to our temperature-sensor model. Now, we assume that the real temperature must be similar to the real temperature in the previous time step. This temporal dependency can easily model as follows using a ``for-loop``. A graphical representation would be as follows,\n",
    "\n",
    "<img src=\"slides/Figures/tempmodel-temporal-III.png\" alt=\"Drawing\" style=\"width: 350px;\" >\n",
    "\n"
   ]
  },
  {
   "cell_type": "code",
   "execution_count": 66,
   "metadata": {},
   "outputs": [],
   "source": [
    "#The observatons   \n",
    "obs = {'sensor': torch.tensor([18., 18.7, 19.2, 17.8, 20.3, 22.4, 20.3, 21.2, 19.5, 20.1])}\n",
    "\n",
    "def model(obs):\n",
    "    mean_temp = pyro.sample('mean_temp', dist.Normal(15.0, 2.0))\n",
    "    for i in range(obs['sensor'].shape[0]):\n",
    "        if i==0:\n",
    "            temp = pyro.sample(f'temp_{i}', dist.Normal(mean_temp, 2.0))\n",
    "        else:\n",
    "            temp = pyro.sample(f'temp_{i}', dist.Normal(prev_temp, 2.0))\n",
    "        sensor = pyro.sample(f'sensor_{i}', dist.Normal(temp, 1.0), obs=obs['sensor'][i])\n",
    "        prev_temp = temp"
   ]
  },
  {
   "cell_type": "code",
   "execution_count": 67,
   "metadata": {},
   "outputs": [],
   "source": [
    "#Define the guide\n",
    "def guide(obs):\n",
    "    mean = pyro.param(\"mean\", torch.mean(obs['sensor']))\n",
    "    scale = pyro.param(\"scale\", torch.tensor(1.), constraint=constraints.positive)\n",
    "    mean_temp = pyro.sample('mean_temp', dist.Normal(mean, scale))\n",
    "    for i in range(obs['sensor'].shape[0]):\n",
    "        mean_i = pyro.param(f'mean_{i}', obs['sensor'][i])\n",
    "        scale_i = pyro.param(f'scale_{i}', torch.tensor(1.), constraint=constraints.positive)\n",
    "        temp = pyro.sample(f'temp_{i}', dist.Normal(mean_i, scale_i))"
   ]
  },
  {
   "cell_type": "code",
   "execution_count": 69,
   "metadata": {},
   "outputs": [
    {
     "name": "stdout",
     "output_type": "stream",
     "text": [
      "Finished\n"
     ]
    }
   ],
   "source": [
    "import time\n",
    "        \n",
    "#Run inference\n",
    "svi(model, guide, obs, num_steps=2000)\n",
    "\n",
    "smooth_temp=[]\n",
    "for i in range(obs['sensor'].shape[0]):\n",
    "    smooth_temp.append(pyro.param(f'mean_{i}').item())\n",
    "\n",
    "print('Finished')"
   ]
  },
  {
   "cell_type": "markdown",
   "metadata": {},
   "source": [
    "Now we can plot the observered measurements of the temperature against the inferred real temperature by our model. We can see like the *recovered* temperature is much less noisy than the real one. "
   ]
  },
  {
   "cell_type": "code",
   "execution_count": 70,
   "metadata": {},
   "outputs": [
    {
     "data": {
      "text/plain": [
       "<matplotlib.legend.Legend at 0x1192d1390>"
      ]
     },
     "execution_count": 70,
     "metadata": {},
     "output_type": "execute_result"
    },
    {
     "data": {
      "image/png": "[encoded data removed]",
      "text/plain": [
       "<Figure size 432x288 with 1 Axes>"
      ]
     },
     "metadata": {},
     "output_type": "display_data"
    }
   ],
   "source": [
    "import matplotlib.pyplot as plt\n",
    "plt.plot([18., 18.7, 19.2, 17.8, 20.3, 22.4, 20.3, 21.2, 19.5, 20.1], label='Sensor Temp')\n",
    "plt.plot(smooth_temp, label='Smooth Temp')\n",
    "plt.legend()"
   ]
  },
  {
   "cell_type": "markdown",
   "metadata": {},
   "source": [
    "### <span style=\"color:red\">Exercise 3: </span> \n",
    "\n",
    "Extends Excersise 2 by linking temporally the humidity measurements. Use the following graphical representation for reference, but consider here that the plate representation has to be coded in Pyro using a ``for-loop``.\n",
    "\n",
    "\n",
    "<img src=\"slides/Figures/icecream-model-temporal.png\" alt=\"Drawing\" style=\"width: 550px;\" >\n",
    "\n",
    "\n"
   ]
  },
  {
   "cell_type": "code",
   "execution_count": null,
   "metadata": {},
   "outputs": [],
   "source": [
    "#The observatons   \n",
    "obs = {'sensor': torch.tensor([18., 18.7, 19.2, 17.8, 20.3, 22.4, 20.3, 21.2, 19.5, 20.1]),\n",
    "       'sales': torch.tensor([46., 47., 49., 44., 50., 54., 51., 52., 49., 53.]),\n",
    "       'sensor_humidity': torch.tensor([82.8, 87.6, 69.1, 74.2, 80.3, 94.2, 91.2, 92.2, 99.1, 93.2])/10.}\n",
    "\n",
    "\n",
    "\n",
    "def model(obs):\n",
    "    mean_temp = pyro.sample('mean_temp', dist.Normal(15.0, 2.0))\n",
    "    ## Introduce a random variable \"mean_humidity\"\n",
    "\n",
    "\n",
    "    alpha = pyro.sample('alpha', dist.Normal(0.0, 100.0))\n",
    "    beta = pyro.sample('beta', dist.Normal(0.0, 100.0))\n",
    "    ## Introduce a coefficient for the humidity \"gamma\"\n",
    "\n",
    "    for i in range(obs['sensor'].shape[0]):\n",
    "        if i==0:\n",
    "            temp = pyro.sample(f'temp_{i}', dist.Normal(mean_temp, 2.0))\n",
    "            #Introduce the 'humidity' variable at time 0.\n",
    "        else:\n",
    "            temp = pyro.sample(f'temp_{i}', dist.Normal(prev_temp, 2.0))\n",
    "            #Introduce the f'humidity_{i}' variable defining the transition\n",
    "            \n",
    "        sensor = pyro.sample(f'sensor_{i}', dist.Normal(temp, 1.0), obs=obs['sensor'][i])\n",
    "        #Introduce the f'sensor_humidity_{i}' variable. \n",
    "\n",
    "        sales = pyro.sample(f'sales_{i}', dist.Poisson(?????), obs=obs['sales'][i])\n",
    "        prev_temp = temp\n",
    "        #Keep humidity for the next time step. \n"
   ]
  },
  {
   "cell_type": "code",
   "execution_count": null,
   "metadata": {},
   "outputs": [],
   "source": [
    "#Define the guide\n",
    "def guide(obs):\n",
    "    mean = pyro.param(\"mean\", torch.mean(obs['sensor']))\n",
    "    scale = pyro.param(\"scale\", torch.tensor(1.), constraint=constraints.positive)\n",
    "    mean_temp = pyro.sample('mean_temp', dist.Normal(mean, scale))\n",
    "\n",
    "    meanH = pyro.param(\"meanH\", torch.mean(obs['sensor_humidity']), constraint=constraints.positive)\n",
    "    scaleH = pyro.param(\"scaleH\", torch.tensor(1.), constraint=constraints.greater_than(0.01))\n",
    "    humidity_mean = pyro.sample('mean_humidity', dist.Normal(meanH, scaleH))\n",
    "\n",
    "\n",
    "    alpha_mean = pyro.param(\"alpha_mean\", torch.mean(obs['sensor']))\n",
    "    alpha_scale = pyro.param(\"alpha_scale\", torch.tensor(1.), constraint=constraints.positive)\n",
    "    alpha = pyro.sample('alpha', dist.Normal(alpha_mean, alpha_scale))\n",
    "\n",
    "    beta_mean = pyro.param(\"beta_mean\", torch.tensor(0.0))\n",
    "    beta_scale = pyro.param(\"beta_scale\", torch.tensor(1.), constraint=constraints.positive)\n",
    "    beta = pyro.sample('beta', dist.Normal(beta_mean, beta_scale))\n",
    "\n",
    "    gamma_mean = pyro.param(\"gamma_mean\", torch.tensor(0.0))\n",
    "    gamma_scale = pyro.param(\"gamma_scale\", torch.tensor(1.), constraint=constraints.positive)\n",
    "    gamma = pyro.sample('gamma', dist.Normal(gamma_mean, gamma_scale))\n",
    "\n",
    "    for i in range(obs['sensor'].shape[0]):\n",
    "        mean_i = pyro.param(f'mean_{i}', obs['sensor'][i])\n",
    "        scale_i = pyro.param(f'scale_{i}', torch.tensor(1.), constraint=constraints.positive)\n",
    "        temp = pyro.sample(f'temp_{i}', dist.Normal(mean_i, scale_i))\n",
    "        meanH_i = pyro.param(f'meanH_{i}', obs['sensor_humidity'][i])\n",
    "        scaleH_i = pyro.param(f'scaleH_{i}', torch.tensor(1.), constraint=constraints.positive)\n",
    "        humidity_i = pyro.sample(f'humidity_{i}', dist.Normal(meanH_i, scaleH_i))"
   ]
  },
  {
   "cell_type": "code",
   "execution_count": null,
   "metadata": {},
   "outputs": [],
   "source": [
    "import time\n",
    "        \n",
    "#Run inference\n",
    "svi(model, guide, obs, num_steps=2000)\n",
    "\n",
    "smooth_temp=[]\n",
    "smooth_humidity=[]\n",
    "\n",
    "for i in range(obs['sensor'].shape[0]):\n",
    "    smooth_temp.append(pyro.param(f'mean_{i}').item())\n",
    "    smooth_humidity.append(pyro.param(f'meanH_{i}').item())\n",
    "\n",
    "\n",
    "print('Finished')"
   ]
  },
  {
   "cell_type": "code",
   "execution_count": null,
   "metadata": {},
   "outputs": [],
   "source": [
    "plt.plot([18., 18.7, 19.2, 17.8, 20.3, 22.4, 20.3, 21.2, 19.5, 20.1], label='Sensor Temp')\n",
    "plt.plot(smooth_temp, label='Smooth Temp')\n",
    "plt.legend()"
   ]
  },
  {
   "cell_type": "code",
   "execution_count": null,
   "metadata": {},
   "outputs": [],
   "source": [
    "humidity = torch.tensor([82.8, 87.6, 69.1, 74.2, 80.3, 94.2, 91.2, 92.2, 99.1, 93.2])/10.\n",
    "plt.plot(humidity.detach().numpy(), label='Sensor Humidity')\n",
    "plt.plot(smooth_humidity, label='Smooth Humidity')\n",
    "plt.legend()"
   ]
  },
  {
   "cell_type": "code",
   "execution_count": null,
   "metadata": {},
   "outputs": [],
   "source": []
  }
 ],
 "metadata": {
  "kernelspec": {
   "display_name": "Python 3",
   "language": "python",
   "name": "python3"
  },
  "language_info": {
   "codemirror_mode": {
    "name": "ipython",
    "version": 3
   },
   "file_extension": ".py",
   "mimetype": "text/x-python",
   "name": "python",
   "nbconvert_exporter": "python",
   "pygments_lexer": "ipython3",
   "version": "3.6.7"
  }
 },
 "nbformat": 4,
 "nbformat_minor": 2
}
